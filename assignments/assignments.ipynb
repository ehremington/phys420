{
 "cells": [
  {
   "cell_type": "markdown",
   "id": "c33409ab-190c-485c-b1fc-2ada9aedace7",
   "metadata": {},
   "source": [
    "## Problem Set 5\n",
    "\n",
    "### Finish problem 1.34\n",
    "\n",
    "You have done the work part of (a), so use the equipartition theorem to finish the rest. Don't forget it is a diatomic gas.\n",
    "\n",
    "### Problem 1.36\n",
    "\n",
    "It might help to do 1.35 first but I'll tell you the gist and then you can just use the results. We derived an expression in class for initial and final volume and temperature ratios for an adiabatic compression: \n",
    "\n",
    "$$ \\left(\\frac{T_f}{T_i}\\right)^{f/2}=\\frac{V_i}{V_f}$$\n",
    "\n",
    "This is also the same information as equation 1.38 and 1.39 from the book. Use your proportionalities from the ideal gas law to get $T\\propto PV$, and then plug that in and simplify. You will get equation 1.40 from the book, as long as you let $\\gamma = (f+2)/f$. Use this form to help with Problem 1.36.\n",
    "\n",
    "### Problem 1.38\n",
    "\n",
    "Great conceptual question. Think about which bubble with expand more, the one that experienced isothermal expansion, or the one that experienced adiabatic expansion. They experience the same change in pressure since they start at the same level in the water and both reach the surface.\n",
    "\n",
    "------------"
   ]
  },
  {
   "cell_type": "markdown",
   "id": "fe6e877b-4696-48f6-a96c-e0726adde971",
   "metadata": {},
   "source": [
    "## Problem Set 4\n",
    "\n",
    "### Problem 1.7\n",
    "\n",
    "### Problem 1.16\n",
    "\n",
    "### Problem 1.17\n",
    "\n",
    "Additional Hint: you can use pressure in atm and volume in cm$^3$ if you use the gas constant $ R=83.1$ which has units of $\\frac{atm \\cdot cm^3}{mol K}$.\n",
    "\n",
    "----------"
   ]
  },
  {
   "cell_type": "markdown",
   "id": "9eaa80e7-b3ae-4cf6-94ed-6c68ffe6086c",
   "metadata": {
    "jp-MarkdownHeadingCollapsed": true,
    "tags": []
   },
   "source": [
    "## Problem Set 3\n",
    "\n",
    "### Equilibrium Temperature\n",
    "\n",
    "A 5kg block of aluminum ($c_{Al} = 0.9 kJ/kgK$) at 500C is in thermal contact with a 5kg block of lead ($c_{Pb} = 0.13kJ/kgK$) at 75C. What is their equilibrium temperature?\n",
    "\n",
    "### Problem 1.41\n",
    "\n",
    "### Problem 1.47 or 1.48 your choice\n",
    "\n",
    "---------\n"
   ]
  },
  {
   "cell_type": "markdown",
   "id": "9732c69a-42e7-4880-8e2b-a6f46cc046f4",
   "metadata": {
    "jp-MarkdownHeadingCollapsed": true,
    "tags": []
   },
   "source": [
    "## Problem Set 2\n",
    "\n",
    "### Problem 1.28 \n",
    "\n",
    "Estimate how long it should take to bring a cup of water to boiling temperature in a typical 600-watt microwave oven, assuming that all the energy ends up in the water. (Assume any reasonable initial temperature for the water.) Explain why no heat is involved in this process.\n",
    "\n",
    "### Problem 1.33 a\n",
    "\n",
    "We did this in class already, but just make sure you have it written down, so we can come back and finish the rest later.\n",
    "\n",
    "### Problem 1.34 a \n",
    "\n",
    "But ONLY the work done on each stage of the cycle. We'll come back and talk about the heat added and the change in th eenergy content later. Express your answers in terms of $P_1, P_2, V_1, V_2.$ \n",
    "\n",
    "\n",
    "-----"
   ]
  },
  {
   "cell_type": "markdown",
   "id": "cfc87d0b-17c3-4bf4-bde6-2f300b6c9b81",
   "metadata": {
    "tags": []
   },
   "source": [
    "## Problem Set 1\n",
    "\n",
    "### Problem 1.1\n",
    "\n",
    "### Problem 1.3\n",
    "\n",
    "### Problem 1.12\n",
    "\n",
    "### Proportionality\n",
    "\n",
    "Proportionality is a very convenient way to summarize a relationship, but its the kind of thing that everyone assumes someone else taught you. \n",
    "\n",
    "So when we see an equation like the ideal gas law $P V = N k_B T$ this equation contains many relationships that can be stated as *ratios*. As an example, imagine we are conducting an experiment where we vary the temperature of a gas, but we do not change the number of particles or the volume of the container. The question is what happens to the pressure? We can relate the *ratio* of the two temperatures to the *ratio* of the two different pressures. Here is how:\n",
    "\n",
    "Solve for the Pressure: \n",
    "\n",
    "$$ P = \\frac{N k_B}{V} T $$\n",
    "\n",
    "and then see that this general equation must be satisfied in the specific instances of $T_1, T_2, P_1, P_2$:\n",
    "$$ P_1 = \\frac{N k_B}{V} T_1 $$\n",
    "$$ P_2 = \\frac{N k_B}{V} T_2 $$\n",
    "\n",
    "Dividing the two equations as 2/1, shows that all of the constant things ($N, k_b, V$) cancel out and we are left with a proportion\n",
    "\n",
    "$$\\frac{P_2}{P_1} = \\frac{T_2}{T_1}$$\n",
    "\n",
    "This type of proportionality is called *directly proportional* or *linearly proportional* since if you double the temperature $T_2/T_1 = 2$ then the equation says that the pressure would double as well $P_2/P_1 = 2$.\n",
    "\n",
    "The fancy/mathy way of writing this is $P \\propto T$. When you see that statement, it means you can write down $$\\frac{P_2}{P_1} = \\frac{T_2}{T_1}$$\n",
    "\n",
    "Other types of proportionality follow from this logic. So for example\n",
    "\n",
    "$$ y \\propto \\frac{1}{x} $$ \n",
    "\n",
    "is called *inverse proportionality*. It is also sometimes written as $y \\propto x^{-1}$. From these statements, you can write down \n",
    "\n",
    "$$ \\frac{y_2}{y_1} = \\frac{x_1}{x_2} = \\left(\\frac{x_2}{x_1}\\right)^{-1} $$\n",
    "\n",
    "There are other proportionality statements that are very important in physics like the famous *inverse square law* which comes in the form $y \\propto x^{-2}$. These kinds of proportionality statements can also be written as an equation with a *constant of proportionality* which is often the mores familiar form to us. So for example the law of Universal Gravitation can be written like \n",
    "\n",
    "$$ F = \\frac{G m_1 m_2}{r^2} $$\n",
    "\n",
    "We could say the the force is directly proportional to each mass, and inversely proportional to the square of the distance between them. The constant of proportionality is *G*. \n",
    "\n",
    "Ok, now go back to the ideal gas law and imagine the following scenarios:\n",
    "\n",
    "1. By what factor does the pressure change if the temperature triples (here we assume that all other things are unchanged)? (that language of \"by what factor\" is just another way of saying \"whats the ratio of pressures\")\n",
    "2. By what factors does the pressure change if the number of particles doubles? What about halving? (remember that this is only true if the temperature is the same as well as the volume - how would you do that?).\n",
    "3. By what factor does the pressure change if the volume doubles?\n",
    "4. By what factor does the pressure change if the volume doubles and the temperature triples?\n",
    "5. By what factors would the temperature change if the volume doubled and the pressure tripled?\n",
    "6. By what factors would the volume change if the number of particles halved and the pressure doubled and the temperature *decreased* by a factor of 10? How would you do this in the lab?\n",
    "\n"
   ]
  }
 ],
 "metadata": {
  "kernelspec": {
   "display_name": "Python 3",
   "language": "python",
   "name": "python3"
  },
  "language_info": {
   "codemirror_mode": {
    "name": "ipython",
    "version": 3
   },
   "file_extension": ".py",
   "mimetype": "text/x-python",
   "name": "python",
   "nbconvert_exporter": "python",
   "pygments_lexer": "ipython3",
   "version": "3.6.13"
  }
 },
 "nbformat": 4,
 "nbformat_minor": 5
}
