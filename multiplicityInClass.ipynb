{
 "cells": [
  {
   "cell_type": "code",
   "execution_count": 1,
   "id": "22e360c2-b1cb-44b4-a5a5-0d18d8e35907",
   "metadata": {},
   "outputs": [],
   "source": [
    "%matplotlib widget"
   ]
  },
  {
   "cell_type": "code",
   "execution_count": 2,
   "id": "4fc15559-dc0b-4cd5-8e5b-8e3f5f42247b",
   "metadata": {},
   "outputs": [],
   "source": [
    "import numpy as np\n",
    "import pandas as pd\n",
    "import matplotlib.pyplot as plt\n",
    "import scipy.special as sp"
   ]
  },
  {
   "cell_type": "code",
   "execution_count": 3,
   "id": "18084871-f748-4cc1-a191-c981a0045861",
   "metadata": {},
   "outputs": [],
   "source": [
    "def factorial(x):\n",
    "    return sp.factorial(x, exact=True)\n",
    "\n",
    "def multiplicity(N,q):\n",
    "    return factorial(q+N-1)//factorial(q)//factorial(N-1)"
   ]
  },
  {
   "cell_type": "code",
   "execution_count": 8,
   "id": "8d5f8dbc-b0eb-4660-960a-eaaa4a8c5cdf",
   "metadata": {},
   "outputs": [],
   "source": [
    "table1 = pd.DataFrame({'q_A':range(0,6+1,1),'q_B':range(6,0-1,-1)})\n",
    "table1['multi_A'] = [multiplicity(3,i) for i in table1['q_A']]\n",
    "table1['multi_B'] = [multiplicity(3,i) for i in table1['q_B']]\n",
    "table1['multi_total'] = table1['multi_A']*table1['multi_B']\n",
    "table1['probability'] = table1['multi_total']/table1['multi_total'].sum()"
   ]
  },
  {
   "cell_type": "code",
   "execution_count": 9,
   "id": "8807fa44-332d-49f3-aec9-5235c02fff21",
   "metadata": {},
   "outputs": [
    {
     "data": {
      "text/html": [
       "<div>\n",
       "<style scoped>\n",
       "    .dataframe tbody tr th:only-of-type {\n",
       "        vertical-align: middle;\n",
       "    }\n",
       "\n",
       "    .dataframe tbody tr th {\n",
       "        vertical-align: top;\n",
       "    }\n",
       "\n",
       "    .dataframe thead th {\n",
       "        text-align: right;\n",
       "    }\n",
       "</style>\n",
       "<table border=\"1\" class=\"dataframe\">\n",
       "  <thead>\n",
       "    <tr style=\"text-align: right;\">\n",
       "      <th></th>\n",
       "      <th>q_A</th>\n",
       "      <th>q_B</th>\n",
       "      <th>multi_A</th>\n",
       "      <th>multi_B</th>\n",
       "      <th>multi_total</th>\n",
       "      <th>probability</th>\n",
       "    </tr>\n",
       "  </thead>\n",
       "  <tbody>\n",
       "    <tr>\n",
       "      <th>0</th>\n",
       "      <td>0</td>\n",
       "      <td>6</td>\n",
       "      <td>1</td>\n",
       "      <td>28</td>\n",
       "      <td>28</td>\n",
       "      <td>0.060606</td>\n",
       "    </tr>\n",
       "    <tr>\n",
       "      <th>1</th>\n",
       "      <td>1</td>\n",
       "      <td>5</td>\n",
       "      <td>3</td>\n",
       "      <td>21</td>\n",
       "      <td>63</td>\n",
       "      <td>0.136364</td>\n",
       "    </tr>\n",
       "    <tr>\n",
       "      <th>2</th>\n",
       "      <td>2</td>\n",
       "      <td>4</td>\n",
       "      <td>6</td>\n",
       "      <td>15</td>\n",
       "      <td>90</td>\n",
       "      <td>0.194805</td>\n",
       "    </tr>\n",
       "    <tr>\n",
       "      <th>3</th>\n",
       "      <td>3</td>\n",
       "      <td>3</td>\n",
       "      <td>10</td>\n",
       "      <td>10</td>\n",
       "      <td>100</td>\n",
       "      <td>0.216450</td>\n",
       "    </tr>\n",
       "    <tr>\n",
       "      <th>4</th>\n",
       "      <td>4</td>\n",
       "      <td>2</td>\n",
       "      <td>15</td>\n",
       "      <td>6</td>\n",
       "      <td>90</td>\n",
       "      <td>0.194805</td>\n",
       "    </tr>\n",
       "    <tr>\n",
       "      <th>5</th>\n",
       "      <td>5</td>\n",
       "      <td>1</td>\n",
       "      <td>21</td>\n",
       "      <td>3</td>\n",
       "      <td>63</td>\n",
       "      <td>0.136364</td>\n",
       "    </tr>\n",
       "    <tr>\n",
       "      <th>6</th>\n",
       "      <td>6</td>\n",
       "      <td>0</td>\n",
       "      <td>28</td>\n",
       "      <td>1</td>\n",
       "      <td>28</td>\n",
       "      <td>0.060606</td>\n",
       "    </tr>\n",
       "  </tbody>\n",
       "</table>\n",
       "</div>"
      ],
      "text/plain": [
       "   q_A  q_B  multi_A  multi_B  multi_total  probability\n",
       "0    0    6        1       28           28     0.060606\n",
       "1    1    5        3       21           63     0.136364\n",
       "2    2    4        6       15           90     0.194805\n",
       "3    3    3       10       10          100     0.216450\n",
       "4    4    2       15        6           90     0.194805\n",
       "5    5    1       21        3           63     0.136364\n",
       "6    6    0       28        1           28     0.060606"
      ]
     },
     "execution_count": 9,
     "metadata": {},
     "output_type": "execute_result"
    }
   ],
   "source": [
    "table1"
   ]
  },
  {
   "cell_type": "code",
   "execution_count": 10,
   "id": "389c778b-bea4-405b-80fe-129e3383dfde",
   "metadata": {},
   "outputs": [
    {
     "data": {
      "text/plain": [
       "462"
      ]
     },
     "execution_count": 10,
     "metadata": {},
     "output_type": "execute_result"
    }
   ],
   "source": [
    "table1['multi_total'].sum()"
   ]
  },
  {
   "cell_type": "code",
   "execution_count": 11,
   "id": "476720d5-15f5-4a30-b4a7-75dbe9f36c27",
   "metadata": {},
   "outputs": [
    {
     "data": {
      "text/plain": [
       "462"
      ]
     },
     "execution_count": 11,
     "metadata": {},
     "output_type": "execute_result"
    }
   ],
   "source": [
    "multiplicity(6,6)"
   ]
  },
  {
   "cell_type": "code",
   "execution_count": 13,
   "id": "bd070325-7fb5-424d-be37-618acc475887",
   "metadata": {},
   "outputs": [
    {
     "data": {
      "application/vnd.jupyter.widget-view+json": {
       "model_id": "c463569a707247f28edde3012c825891",
       "version_major": 2,
       "version_minor": 0
      },
      "text/plain": [
       "Canvas(toolbar=Toolbar(toolitems=[('Home', 'Reset original view', 'home', 'home'), ('Back', 'Back to previous …"
      ]
     },
     "metadata": {},
     "output_type": "display_data"
    },
    {
     "data": {
      "text/plain": [
       "<BarContainer object of 7 artists>"
      ]
     },
     "execution_count": 13,
     "metadata": {},
     "output_type": "execute_result"
    }
   ],
   "source": [
    "fig1 = plt.figure()\n",
    "ax1 = fig1.add_subplot()\n",
    "\n",
    "ax1.bar(table1['q_A'], table1['multi_total'])"
   ]
  },
  {
   "cell_type": "code",
   "execution_count": 14,
   "id": "49d69250-a717-4c14-a145-50a54626c15e",
   "metadata": {},
   "outputs": [],
   "source": [
    "def multitable(N_a, N_b, q):\n",
    "    table1 = pd.DataFrame({'q_A':range(0,q+1,1),'q_B':range(q,0-1,-1)})\n",
    "    table1['multi_A'] = [multiplicity(N_a,i) for i in table1['q_A']]\n",
    "    table1['multi_B'] = [multiplicity(N_b,i) for i in table1['q_B']]\n",
    "    table1['multi_total'] = table1['multi_A']*table1['multi_B']\n",
    "    table1['probability'] = table1['multi_total']/table1['multi_total'].sum()\n",
    "    return table1"
   ]
  },
  {
   "cell_type": "code",
   "execution_count": 25,
   "id": "1490eb91-68e7-4f14-b68b-823bc8444e76",
   "metadata": {},
   "outputs": [],
   "source": [
    "table2 = multitable(500,500,500)"
   ]
  },
  {
   "cell_type": "code",
   "execution_count": 26,
   "id": "359796f7-dc78-45e5-a5e3-e92f20d1bc60",
   "metadata": {},
   "outputs": [
    {
     "data": {
      "text/html": [
       "<div>\n",
       "<style scoped>\n",
       "    .dataframe tbody tr th:only-of-type {\n",
       "        vertical-align: middle;\n",
       "    }\n",
       "\n",
       "    .dataframe tbody tr th {\n",
       "        vertical-align: top;\n",
       "    }\n",
       "\n",
       "    .dataframe thead th {\n",
       "        text-align: right;\n",
       "    }\n",
       "</style>\n",
       "<table border=\"1\" class=\"dataframe\">\n",
       "  <thead>\n",
       "    <tr style=\"text-align: right;\">\n",
       "      <th></th>\n",
       "      <th>q_A</th>\n",
       "      <th>q_B</th>\n",
       "      <th>multi_A</th>\n",
       "      <th>multi_B</th>\n",
       "      <th>multi_total</th>\n",
       "      <th>probability</th>\n",
       "    </tr>\n",
       "  </thead>\n",
       "  <tbody>\n",
       "    <tr>\n",
       "      <th>0</th>\n",
       "      <td>0</td>\n",
       "      <td>500</td>\n",
       "      <td>1</td>\n",
       "      <td>1351441204727182847578073468129876377480760042...</td>\n",
       "      <td>1351441204727182847578073468129876377480760042...</td>\n",
       "      <td>2.06831e-114</td>\n",
       "    </tr>\n",
       "    <tr>\n",
       "      <th>1</th>\n",
       "      <td>1</td>\n",
       "      <td>499</td>\n",
       "      <td>500</td>\n",
       "      <td>6763969993629543781672039380029411298702502713...</td>\n",
       "      <td>3381984996814771890836019690014705649351251356...</td>\n",
       "      <td>5.17595e-112</td>\n",
       "    </tr>\n",
       "    <tr>\n",
       "      <th>2</th>\n",
       "      <td>2</td>\n",
       "      <td>498</td>\n",
       "      <td>125250</td>\n",
       "      <td>3381984996814771890836019690014705649351251356...</td>\n",
       "      <td>4235936208510501793272114661743418825812442324...</td>\n",
       "      <td>6.48288e-110</td>\n",
       "    </tr>\n",
       "    <tr>\n",
       "      <th>3</th>\n",
       "      <td>3</td>\n",
       "      <td>497</td>\n",
       "      <td>20958500</td>\n",
       "      <td>1689296417666756671651291680669331407599722342...</td>\n",
       "      <td>3540511896966871970280359668930818230617878072...</td>\n",
       "      <td>5.41857e-108</td>\n",
       "    </tr>\n",
       "    <tr>\n",
       "      <th>4</th>\n",
       "      <td>4</td>\n",
       "      <td>496</td>\n",
       "      <td>2635531375</td>\n",
       "      <td>8429521280927490620589276759966442867239578357...</td>\n",
       "      <td>2221626781211459063058125988944990412375486840...</td>\n",
       "      <td>3.40008e-106</td>\n",
       "    </tr>\n",
       "    <tr>\n",
       "      <th>...</th>\n",
       "      <td>...</td>\n",
       "      <td>...</td>\n",
       "      <td>...</td>\n",
       "      <td>...</td>\n",
       "      <td>...</td>\n",
       "      <td>...</td>\n",
       "    </tr>\n",
       "    <tr>\n",
       "      <th>496</th>\n",
       "      <td>496</td>\n",
       "      <td>4</td>\n",
       "      <td>8429521280927490620589276759966442867239578357...</td>\n",
       "      <td>2635531375</td>\n",
       "      <td>2221626781211459063058125988944990412375486840...</td>\n",
       "      <td>3.40008e-106</td>\n",
       "    </tr>\n",
       "    <tr>\n",
       "      <th>497</th>\n",
       "      <td>497</td>\n",
       "      <td>3</td>\n",
       "      <td>1689296417666756671651291680669331407599722342...</td>\n",
       "      <td>20958500</td>\n",
       "      <td>3540511896966871970280359668930818230617878072...</td>\n",
       "      <td>5.41857e-108</td>\n",
       "    </tr>\n",
       "    <tr>\n",
       "      <th>498</th>\n",
       "      <td>498</td>\n",
       "      <td>2</td>\n",
       "      <td>3381984996814771890836019690014705649351251356...</td>\n",
       "      <td>125250</td>\n",
       "      <td>4235936208510501793272114661743418825812442324...</td>\n",
       "      <td>6.48288e-110</td>\n",
       "    </tr>\n",
       "    <tr>\n",
       "      <th>499</th>\n",
       "      <td>499</td>\n",
       "      <td>1</td>\n",
       "      <td>6763969993629543781672039380029411298702502713...</td>\n",
       "      <td>500</td>\n",
       "      <td>3381984996814771890836019690014705649351251356...</td>\n",
       "      <td>5.17595e-112</td>\n",
       "    </tr>\n",
       "    <tr>\n",
       "      <th>500</th>\n",
       "      <td>500</td>\n",
       "      <td>0</td>\n",
       "      <td>1351441204727182847578073468129876377480760042...</td>\n",
       "      <td>1</td>\n",
       "      <td>1351441204727182847578073468129876377480760042...</td>\n",
       "      <td>2.06831e-114</td>\n",
       "    </tr>\n",
       "  </tbody>\n",
       "</table>\n",
       "<p>501 rows × 6 columns</p>\n",
       "</div>"
      ],
      "text/plain": [
       "     q_A  q_B                                            multi_A  \\\n",
       "0      0  500                                                  1   \n",
       "1      1  499                                                500   \n",
       "2      2  498                                             125250   \n",
       "3      3  497                                           20958500   \n",
       "4      4  496                                         2635531375   \n",
       "..   ...  ...                                                ...   \n",
       "496  496    4  8429521280927490620589276759966442867239578357...   \n",
       "497  497    3  1689296417666756671651291680669331407599722342...   \n",
       "498  498    2  3381984996814771890836019690014705649351251356...   \n",
       "499  499    1  6763969993629543781672039380029411298702502713...   \n",
       "500  500    0  1351441204727182847578073468129876377480760042...   \n",
       "\n",
       "                                               multi_B  \\\n",
       "0    1351441204727182847578073468129876377480760042...   \n",
       "1    6763969993629543781672039380029411298702502713...   \n",
       "2    3381984996814771890836019690014705649351251356...   \n",
       "3    1689296417666756671651291680669331407599722342...   \n",
       "4    8429521280927490620589276759966442867239578357...   \n",
       "..                                                 ...   \n",
       "496                                         2635531375   \n",
       "497                                           20958500   \n",
       "498                                             125250   \n",
       "499                                                500   \n",
       "500                                                  1   \n",
       "\n",
       "                                           multi_total   probability  \n",
       "0    1351441204727182847578073468129876377480760042...  2.06831e-114  \n",
       "1    3381984996814771890836019690014705649351251356...  5.17595e-112  \n",
       "2    4235936208510501793272114661743418825812442324...  6.48288e-110  \n",
       "3    3540511896966871970280359668930818230617878072...  5.41857e-108  \n",
       "4    2221626781211459063058125988944990412375486840...  3.40008e-106  \n",
       "..                                                 ...           ...  \n",
       "496  2221626781211459063058125988944990412375486840...  3.40008e-106  \n",
       "497  3540511896966871970280359668930818230617878072...  5.41857e-108  \n",
       "498  4235936208510501793272114661743418825812442324...  6.48288e-110  \n",
       "499  3381984996814771890836019690014705649351251356...  5.17595e-112  \n",
       "500  1351441204727182847578073468129876377480760042...  2.06831e-114  \n",
       "\n",
       "[501 rows x 6 columns]"
      ]
     },
     "execution_count": 26,
     "metadata": {},
     "output_type": "execute_result"
    }
   ],
   "source": [
    "table2"
   ]
  },
  {
   "cell_type": "code",
   "execution_count": null,
   "id": "7bb7c8ce-7eff-44f6-9c46-cab48159df5d",
   "metadata": {},
   "outputs": [],
   "source": []
  },
  {
   "cell_type": "code",
   "execution_count": 24,
   "id": "cfa4e126-3e16-4506-8253-ae27eb5600aa",
   "metadata": {},
   "outputs": [
    {
     "data": {
      "application/vnd.jupyter.widget-view+json": {
       "model_id": "673742c2194a4548846426e8e3366bca",
       "version_major": 2,
       "version_minor": 0
      },
      "text/plain": [
       "Canvas(toolbar=Toolbar(toolitems=[('Home', 'Reset original view', 'home', 'home'), ('Back', 'Back to previous …"
      ]
     },
     "metadata": {},
     "output_type": "display_data"
    },
    {
     "data": {
      "text/plain": [
       "<BarContainer object of 501 artists>"
      ]
     },
     "execution_count": 24,
     "metadata": {},
     "output_type": "execute_result"
    }
   ],
   "source": [
    "fig2 = plt.figure()\n",
    "ax2 = fig2.add_subplot()\n",
    "\n",
    "ax2.bar(table2['q_A'],table2['probability'])"
   ]
  },
  {
   "cell_type": "code",
   "execution_count": null,
   "id": "5e4b72b9-c388-4db8-ad13-8100d2f714e0",
   "metadata": {},
   "outputs": [],
   "source": []
  }
 ],
 "metadata": {
  "kernelspec": {
   "display_name": "Python 3",
   "language": "python",
   "name": "python3"
  },
  "language_info": {
   "codemirror_mode": {
    "name": "ipython",
    "version": 3
   },
   "file_extension": ".py",
   "mimetype": "text/x-python",
   "name": "python",
   "nbconvert_exporter": "python",
   "pygments_lexer": "ipython3",
   "version": "3.6.13"
  }
 },
 "nbformat": 4,
 "nbformat_minor": 5
}
