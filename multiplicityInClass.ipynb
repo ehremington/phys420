{
 "cells": [
  {
   "cell_type": "code",
   "execution_count": 1,
   "id": "22e360c2-b1cb-44b4-a5a5-0d18d8e35907",
   "metadata": {},
   "outputs": [],
   "source": [
    "%matplotlib widget"
   ]
  },
  {
   "cell_type": "code",
   "execution_count": 2,
   "id": "4fc15559-dc0b-4cd5-8e5b-8e3f5f42247b",
   "metadata": {},
   "outputs": [],
   "source": [
    "import numpy as np\n",
    "import pandas as pd\n",
    "import matplotlib.pyplot as plt\n",
    "import scipy.special as sp"
   ]
  },
  {
   "cell_type": "code",
   "execution_count": 17,
   "id": "18084871-f748-4cc1-a191-c981a0045861",
   "metadata": {},
   "outputs": [],
   "source": [
    "def factorial(x):\n",
    "    return sp.factorial(x, exact=True)\n",
    "\n",
    "def multiplicity(N,q):\n",
    "    return factorial(q+N-1)//factorial(q)//factorial(N-1)\n",
    "\n",
    "def logArray(array):\n",
    "    import math as math\n",
    "    return [math.log(x) for x in array]"
   ]
  },
  {
   "cell_type": "code",
   "execution_count": 4,
   "id": "8d5f8dbc-b0eb-4660-960a-eaaa4a8c5cdf",
   "metadata": {},
   "outputs": [],
   "source": [
    "table1 = pd.DataFrame({'q_A':range(0,6+1,1),'q_B':range(6,0-1,-1)})\n",
    "table1['multi_A'] = [multiplicity(3,i) for i in table1['q_A']]\n",
    "table1['multi_B'] = [multiplicity(3,i) for i in table1['q_B']]\n",
    "table1['multi_total'] = table1['multi_A']*table1['multi_B']\n",
    "table1['probability'] = table1['multi_total']/table1['multi_total'].sum()"
   ]
  },
  {
   "cell_type": "code",
   "execution_count": 5,
   "id": "8807fa44-332d-49f3-aec9-5235c02fff21",
   "metadata": {},
   "outputs": [
    {
     "data": {
      "text/html": [
       "<div>\n",
       "<style scoped>\n",
       "    .dataframe tbody tr th:only-of-type {\n",
       "        vertical-align: middle;\n",
       "    }\n",
       "\n",
       "    .dataframe tbody tr th {\n",
       "        vertical-align: top;\n",
       "    }\n",
       "\n",
       "    .dataframe thead th {\n",
       "        text-align: right;\n",
       "    }\n",
       "</style>\n",
       "<table border=\"1\" class=\"dataframe\">\n",
       "  <thead>\n",
       "    <tr style=\"text-align: right;\">\n",
       "      <th></th>\n",
       "      <th>q_A</th>\n",
       "      <th>q_B</th>\n",
       "      <th>multi_A</th>\n",
       "      <th>multi_B</th>\n",
       "      <th>multi_total</th>\n",
       "      <th>probability</th>\n",
       "    </tr>\n",
       "  </thead>\n",
       "  <tbody>\n",
       "    <tr>\n",
       "      <th>0</th>\n",
       "      <td>0</td>\n",
       "      <td>6</td>\n",
       "      <td>1</td>\n",
       "      <td>28</td>\n",
       "      <td>28</td>\n",
       "      <td>0.060606</td>\n",
       "    </tr>\n",
       "    <tr>\n",
       "      <th>1</th>\n",
       "      <td>1</td>\n",
       "      <td>5</td>\n",
       "      <td>3</td>\n",
       "      <td>21</td>\n",
       "      <td>63</td>\n",
       "      <td>0.136364</td>\n",
       "    </tr>\n",
       "    <tr>\n",
       "      <th>2</th>\n",
       "      <td>2</td>\n",
       "      <td>4</td>\n",
       "      <td>6</td>\n",
       "      <td>15</td>\n",
       "      <td>90</td>\n",
       "      <td>0.194805</td>\n",
       "    </tr>\n",
       "    <tr>\n",
       "      <th>3</th>\n",
       "      <td>3</td>\n",
       "      <td>3</td>\n",
       "      <td>10</td>\n",
       "      <td>10</td>\n",
       "      <td>100</td>\n",
       "      <td>0.216450</td>\n",
       "    </tr>\n",
       "    <tr>\n",
       "      <th>4</th>\n",
       "      <td>4</td>\n",
       "      <td>2</td>\n",
       "      <td>15</td>\n",
       "      <td>6</td>\n",
       "      <td>90</td>\n",
       "      <td>0.194805</td>\n",
       "    </tr>\n",
       "    <tr>\n",
       "      <th>5</th>\n",
       "      <td>5</td>\n",
       "      <td>1</td>\n",
       "      <td>21</td>\n",
       "      <td>3</td>\n",
       "      <td>63</td>\n",
       "      <td>0.136364</td>\n",
       "    </tr>\n",
       "    <tr>\n",
       "      <th>6</th>\n",
       "      <td>6</td>\n",
       "      <td>0</td>\n",
       "      <td>28</td>\n",
       "      <td>1</td>\n",
       "      <td>28</td>\n",
       "      <td>0.060606</td>\n",
       "    </tr>\n",
       "  </tbody>\n",
       "</table>\n",
       "</div>"
      ],
      "text/plain": [
       "   q_A  q_B  multi_A  multi_B  multi_total  probability\n",
       "0    0    6        1       28           28     0.060606\n",
       "1    1    5        3       21           63     0.136364\n",
       "2    2    4        6       15           90     0.194805\n",
       "3    3    3       10       10          100     0.216450\n",
       "4    4    2       15        6           90     0.194805\n",
       "5    5    1       21        3           63     0.136364\n",
       "6    6    0       28        1           28     0.060606"
      ]
     },
     "execution_count": 5,
     "metadata": {},
     "output_type": "execute_result"
    }
   ],
   "source": [
    "table1"
   ]
  },
  {
   "cell_type": "code",
   "execution_count": 6,
   "id": "389c778b-bea4-405b-80fe-129e3383dfde",
   "metadata": {},
   "outputs": [
    {
     "data": {
      "text/plain": [
       "462"
      ]
     },
     "execution_count": 6,
     "metadata": {},
     "output_type": "execute_result"
    }
   ],
   "source": [
    "table1['multi_total'].sum()"
   ]
  },
  {
   "cell_type": "code",
   "execution_count": 7,
   "id": "476720d5-15f5-4a30-b4a7-75dbe9f36c27",
   "metadata": {},
   "outputs": [
    {
     "data": {
      "text/plain": [
       "462"
      ]
     },
     "execution_count": 7,
     "metadata": {},
     "output_type": "execute_result"
    }
   ],
   "source": [
    "multiplicity(6,6)"
   ]
  },
  {
   "cell_type": "code",
   "execution_count": 8,
   "id": "bd070325-7fb5-424d-be37-618acc475887",
   "metadata": {},
   "outputs": [
    {
     "data": {
      "application/vnd.jupyter.widget-view+json": {
       "model_id": "3378538874af4cafae6a1591becf1115",
       "version_major": 2,
       "version_minor": 0
      },
      "text/plain": [
       "Canvas(toolbar=Toolbar(toolitems=[('Home', 'Reset original view', 'home', 'home'), ('Back', 'Back to previous …"
      ]
     },
     "metadata": {},
     "output_type": "display_data"
    },
    {
     "data": {
      "text/plain": [
       "<BarContainer object of 7 artists>"
      ]
     },
     "execution_count": 8,
     "metadata": {},
     "output_type": "execute_result"
    }
   ],
   "source": [
    "fig1 = plt.figure()\n",
    "ax1 = fig1.add_subplot()\n",
    "\n",
    "ax1.bar(table1['q_A'], table1['multi_total'])"
   ]
  },
  {
   "cell_type": "code",
   "execution_count": 9,
   "id": "49d69250-a717-4c14-a145-50a54626c15e",
   "metadata": {},
   "outputs": [],
   "source": [
    "def multitable(N_a, N_b, q):\n",
    "    table1 = pd.DataFrame({'q_A':range(0,q+1,1),'q_B':range(q,0-1,-1)})\n",
    "    table1['multi_A'] = [multiplicity(N_a,i) for i in table1['q_A']]\n",
    "    table1['multi_B'] = [multiplicity(N_b,i) for i in table1['q_B']]\n",
    "    table1['multi_total'] = table1['multi_A']*table1['multi_B']\n",
    "    table1['probability'] = table1['multi_total']/table1['multi_total'].sum()\n",
    "    return table1"
   ]
  },
  {
   "cell_type": "code",
   "execution_count": 13,
   "id": "1490eb91-68e7-4f14-b68b-823bc8444e76",
   "metadata": {},
   "outputs": [],
   "source": [
    "table2 = multitable(300,200,100)"
   ]
  },
  {
   "cell_type": "code",
   "execution_count": 14,
   "id": "359796f7-dc78-45e5-a5e3-e92f20d1bc60",
   "metadata": {
    "collapsed": true,
    "jupyter": {
     "outputs_hidden": true
    },
    "tags": []
   },
   "outputs": [
    {
     "data": {
      "text/html": [
       "<div>\n",
       "<style scoped>\n",
       "    .dataframe tbody tr th:only-of-type {\n",
       "        vertical-align: middle;\n",
       "    }\n",
       "\n",
       "    .dataframe tbody tr th {\n",
       "        vertical-align: top;\n",
       "    }\n",
       "\n",
       "    .dataframe thead th {\n",
       "        text-align: right;\n",
       "    }\n",
       "</style>\n",
       "<table border=\"1\" class=\"dataframe\">\n",
       "  <thead>\n",
       "    <tr style=\"text-align: right;\">\n",
       "      <th></th>\n",
       "      <th>q_A</th>\n",
       "      <th>q_B</th>\n",
       "      <th>multi_A</th>\n",
       "      <th>multi_B</th>\n",
       "      <th>multi_total</th>\n",
       "      <th>probability</th>\n",
       "    </tr>\n",
       "  </thead>\n",
       "  <tbody>\n",
       "    <tr>\n",
       "      <th>0</th>\n",
       "      <td>0</td>\n",
       "      <td>100</td>\n",
       "      <td>1</td>\n",
       "      <td>2772167642172376496522255684217603720186977337...</td>\n",
       "      <td>2772167642172376496522255684217603720186977337...</td>\n",
       "      <td>2.99313e-35</td>\n",
       "    </tr>\n",
       "    <tr>\n",
       "      <th>1</th>\n",
       "      <td>1</td>\n",
       "      <td>99</td>\n",
       "      <td>300</td>\n",
       "      <td>9271463686195239118803530716446835184571830559...</td>\n",
       "      <td>2781439105858571735641059214934050555371549167...</td>\n",
       "      <td>3.00314e-33</td>\n",
       "    </tr>\n",
       "    <tr>\n",
       "      <th>2</th>\n",
       "      <td>2</td>\n",
       "      <td>98</td>\n",
       "      <td>45150</td>\n",
       "      <td>3080117130648753935441441412510861353263796058...</td>\n",
       "      <td>1390672884487912401851810797748653900998603920...</td>\n",
       "      <td>1.50152e-31</td>\n",
       "    </tr>\n",
       "    <tr>\n",
       "      <th>3</th>\n",
       "      <td>3</td>\n",
       "      <td>97</td>\n",
       "      <td>4545100</td>\n",
       "      <td>1016334945466592207654078311198870076161117891...</td>\n",
       "      <td>4619343960640208243008551332229984383159896927...</td>\n",
       "      <td>4.98754e-30</td>\n",
       "    </tr>\n",
       "    <tr>\n",
       "      <th>4</th>\n",
       "      <td>4</td>\n",
       "      <td>96</td>\n",
       "      <td>344291325</td>\n",
       "      <td>3330557084806062302109648519807108019852312008...</td>\n",
       "      <td>1146681911716016558025881184168677964573078805...</td>\n",
       "      <td>1.23808e-28</td>\n",
       "    </tr>\n",
       "    <tr>\n",
       "      <th>...</th>\n",
       "      <td>...</td>\n",
       "      <td>...</td>\n",
       "      <td>...</td>\n",
       "      <td>...</td>\n",
       "      <td>...</td>\n",
       "      <td>...</td>\n",
       "    </tr>\n",
       "    <tr>\n",
       "      <th>96</th>\n",
       "      <td>96</td>\n",
       "      <td>4</td>\n",
       "      <td>6338114589691610663959878992394831270314993823...</td>\n",
       "      <td>68685050</td>\n",
       "      <td>4353337174986977630346174865865886055431488665...</td>\n",
       "      <td>4.70033e-15</td>\n",
       "    </tr>\n",
       "    <tr>\n",
       "      <th>97</th>\n",
       "      <td>97</td>\n",
       "      <td>3</td>\n",
       "      <td>2587518945894719405080527918544694003138904695...</td>\n",
       "      <td>1353400</td>\n",
       "      <td>3501948141373913242835986484958388863848193614...</td>\n",
       "      <td>3.78108e-16</td>\n",
       "    </tr>\n",
       "    <tr>\n",
       "      <th>98</th>\n",
       "      <td>98</td>\n",
       "      <td>2</td>\n",
       "      <td>1048209205632860820221397534349228080863413432...</td>\n",
       "      <td>20100</td>\n",
       "      <td>2106900503322050248645009044041948442535460999...</td>\n",
       "      <td>2.27484e-17</td>\n",
       "    </tr>\n",
       "    <tr>\n",
       "      <th>99</th>\n",
       "      <td>99</td>\n",
       "      <td>1</td>\n",
       "      <td>4214012766079581883314305239100937133168066123...</td>\n",
       "      <td>200</td>\n",
       "      <td>8428025532159163766628610478201874266336132246...</td>\n",
       "      <td>9.09981e-19</td>\n",
       "    </tr>\n",
       "    <tr>\n",
       "      <th>100</th>\n",
       "      <td>100</td>\n",
       "      <td>0</td>\n",
       "      <td>1681391093665753171442407790401273916134058383...</td>\n",
       "      <td>1</td>\n",
       "      <td>1681391093665753171442407790401273916134058383...</td>\n",
       "      <td>1.81541e-20</td>\n",
       "    </tr>\n",
       "  </tbody>\n",
       "</table>\n",
       "<p>101 rows × 6 columns</p>\n",
       "</div>"
      ],
      "text/plain": [
       "     q_A  q_B                                            multi_A  \\\n",
       "0      0  100                                                  1   \n",
       "1      1   99                                                300   \n",
       "2      2   98                                              45150   \n",
       "3      3   97                                            4545100   \n",
       "4      4   96                                          344291325   \n",
       "..   ...  ...                                                ...   \n",
       "96    96    4  6338114589691610663959878992394831270314993823...   \n",
       "97    97    3  2587518945894719405080527918544694003138904695...   \n",
       "98    98    2  1048209205632860820221397534349228080863413432...   \n",
       "99    99    1  4214012766079581883314305239100937133168066123...   \n",
       "100  100    0  1681391093665753171442407790401273916134058383...   \n",
       "\n",
       "                                               multi_B  \\\n",
       "0    2772167642172376496522255684217603720186977337...   \n",
       "1    9271463686195239118803530716446835184571830559...   \n",
       "2    3080117130648753935441441412510861353263796058...   \n",
       "3    1016334945466592207654078311198870076161117891...   \n",
       "4    3330557084806062302109648519807108019852312008...   \n",
       "..                                                 ...   \n",
       "96                                            68685050   \n",
       "97                                             1353400   \n",
       "98                                               20100   \n",
       "99                                                 200   \n",
       "100                                                  1   \n",
       "\n",
       "                                           multi_total  probability  \n",
       "0    2772167642172376496522255684217603720186977337...  2.99313e-35  \n",
       "1    2781439105858571735641059214934050555371549167...  3.00314e-33  \n",
       "2    1390672884487912401851810797748653900998603920...  1.50152e-31  \n",
       "3    4619343960640208243008551332229984383159896927...  4.98754e-30  \n",
       "4    1146681911716016558025881184168677964573078805...  1.23808e-28  \n",
       "..                                                 ...          ...  \n",
       "96   4353337174986977630346174865865886055431488665...  4.70033e-15  \n",
       "97   3501948141373913242835986484958388863848193614...  3.78108e-16  \n",
       "98   2106900503322050248645009044041948442535460999...  2.27484e-17  \n",
       "99   8428025532159163766628610478201874266336132246...  9.09981e-19  \n",
       "100  1681391093665753171442407790401273916134058383...  1.81541e-20  \n",
       "\n",
       "[101 rows x 6 columns]"
      ]
     },
     "execution_count": 14,
     "metadata": {},
     "output_type": "execute_result"
    }
   ],
   "source": [
    "table2"
   ]
  },
  {
   "cell_type": "code",
   "execution_count": null,
   "id": "7bb7c8ce-7eff-44f6-9c46-cab48159df5d",
   "metadata": {},
   "outputs": [],
   "source": []
  },
  {
   "cell_type": "code",
   "execution_count": 15,
   "id": "cfa4e126-3e16-4506-8253-ae27eb5600aa",
   "metadata": {},
   "outputs": [
    {
     "data": {
      "application/vnd.jupyter.widget-view+json": {
       "model_id": "ba4fdd31ea90444db8968579c6b3c3b5",
       "version_major": 2,
       "version_minor": 0
      },
      "text/plain": [
       "Canvas(toolbar=Toolbar(toolitems=[('Home', 'Reset original view', 'home', 'home'), ('Back', 'Back to previous …"
      ]
     },
     "metadata": {},
     "output_type": "display_data"
    },
    {
     "data": {
      "text/plain": [
       "<BarContainer object of 101 artists>"
      ]
     },
     "execution_count": 15,
     "metadata": {},
     "output_type": "execute_result"
    }
   ],
   "source": [
    "fig2 = plt.figure()\n",
    "ax2 = fig2.add_subplot()\n",
    "\n",
    "ax2.bar(table2['q_A'],table2['probability'])"
   ]
  },
  {
   "cell_type": "code",
   "execution_count": 18,
   "id": "5e4b72b9-c388-4db8-ad13-8100d2f714e0",
   "metadata": {},
   "outputs": [],
   "source": [
    "table2['S_a'] = logArray(table2['multi_A'])\n",
    "table2['S_b'] = logArray(table2['multi_B'])\n",
    "table2['S_t'] = table2['S_a']+table2['S_b']"
   ]
  },
  {
   "cell_type": "code",
   "execution_count": 21,
   "id": "fb3b8f72-48b8-4b35-b58f-915e8637f587",
   "metadata": {},
   "outputs": [],
   "source": [
    "table2 = table2.astype(float)"
   ]
  },
  {
   "cell_type": "code",
   "execution_count": 22,
   "id": "18fabc1a-276f-4141-9ee8-ca0a7281ac65",
   "metadata": {},
   "outputs": [
    {
     "data": {
      "text/html": [
       "<div>\n",
       "<style scoped>\n",
       "    .dataframe tbody tr th:only-of-type {\n",
       "        vertical-align: middle;\n",
       "    }\n",
       "\n",
       "    .dataframe tbody tr th {\n",
       "        vertical-align: top;\n",
       "    }\n",
       "\n",
       "    .dataframe thead th {\n",
       "        text-align: right;\n",
       "    }\n",
       "</style>\n",
       "<table border=\"1\" class=\"dataframe\">\n",
       "  <thead>\n",
       "    <tr style=\"text-align: right;\">\n",
       "      <th></th>\n",
       "      <th>q_A</th>\n",
       "      <th>q_B</th>\n",
       "      <th>multi_A</th>\n",
       "      <th>multi_B</th>\n",
       "      <th>multi_total</th>\n",
       "      <th>probability</th>\n",
       "      <th>S_a</th>\n",
       "      <th>S_b</th>\n",
       "      <th>S_t</th>\n",
       "    </tr>\n",
       "  </thead>\n",
       "  <tbody>\n",
       "    <tr>\n",
       "      <th>0</th>\n",
       "      <td>0.0</td>\n",
       "      <td>100.0</td>\n",
       "      <td>1.000000e+00</td>\n",
       "      <td>2.772168e+81</td>\n",
       "      <td>2.772168e+81</td>\n",
       "      <td>2.993133e-35</td>\n",
       "      <td>0.000000</td>\n",
       "      <td>187.529022</td>\n",
       "      <td>187.529022</td>\n",
       "    </tr>\n",
       "    <tr>\n",
       "      <th>1</th>\n",
       "      <td>1.0</td>\n",
       "      <td>99.0</td>\n",
       "      <td>3.000000e+02</td>\n",
       "      <td>9.271464e+80</td>\n",
       "      <td>2.781439e+83</td>\n",
       "      <td>3.003143e-33</td>\n",
       "      <td>5.703782</td>\n",
       "      <td>186.433749</td>\n",
       "      <td>192.137531</td>\n",
       "    </tr>\n",
       "    <tr>\n",
       "      <th>2</th>\n",
       "      <td>2.0</td>\n",
       "      <td>98.0</td>\n",
       "      <td>4.515000e+04</td>\n",
       "      <td>3.080117e+80</td>\n",
       "      <td>1.390673e+85</td>\n",
       "      <td>1.501521e-31</td>\n",
       "      <td>10.717746</td>\n",
       "      <td>185.331775</td>\n",
       "      <td>196.049521</td>\n",
       "    </tr>\n",
       "    <tr>\n",
       "      <th>3</th>\n",
       "      <td>3.0</td>\n",
       "      <td>97.0</td>\n",
       "      <td>4.545100e+06</td>\n",
       "      <td>1.016335e+80</td>\n",
       "      <td>4.619344e+86</td>\n",
       "      <td>4.987544e-30</td>\n",
       "      <td>15.329560</td>\n",
       "      <td>184.223010</td>\n",
       "      <td>199.552571</td>\n",
       "    </tr>\n",
       "    <tr>\n",
       "      <th>4</th>\n",
       "      <td>4.0</td>\n",
       "      <td>96.0</td>\n",
       "      <td>3.442913e+08</td>\n",
       "      <td>3.330557e+79</td>\n",
       "      <td>1.146682e+88</td>\n",
       "      <td>1.238082e-28</td>\n",
       "      <td>19.656999</td>\n",
       "      <td>183.107362</td>\n",
       "      <td>202.764361</td>\n",
       "    </tr>\n",
       "    <tr>\n",
       "      <th>...</th>\n",
       "      <td>...</td>\n",
       "      <td>...</td>\n",
       "      <td>...</td>\n",
       "      <td>...</td>\n",
       "      <td>...</td>\n",
       "      <td>...</td>\n",
       "      <td>...</td>\n",
       "      <td>...</td>\n",
       "      <td>...</td>\n",
       "    </tr>\n",
       "    <tr>\n",
       "      <th>96</th>\n",
       "      <td>96.0</td>\n",
       "      <td>4.0</td>\n",
       "      <td>6.338115e+93</td>\n",
       "      <td>6.868505e+07</td>\n",
       "      <td>4.353337e+101</td>\n",
       "      <td>4.700335e-15</td>\n",
       "      <td>215.986995</td>\n",
       "      <td>18.045042</td>\n",
       "      <td>234.032037</td>\n",
       "    </tr>\n",
       "    <tr>\n",
       "      <th>97</th>\n",
       "      <td>97.0</td>\n",
       "      <td>3.0</td>\n",
       "      <td>2.587519e+94</td>\n",
       "      <td>1.353400e+06</td>\n",
       "      <td>3.501948e+100</td>\n",
       "      <td>3.781083e-16</td>\n",
       "      <td>217.393698</td>\n",
       "      <td>14.118131</td>\n",
       "      <td>231.511829</td>\n",
       "    </tr>\n",
       "    <tr>\n",
       "      <th>98</th>\n",
       "      <td>98.0</td>\n",
       "      <td>2.0</td>\n",
       "      <td>1.048209e+95</td>\n",
       "      <td>2.010000e+04</td>\n",
       "      <td>2.106901e+99</td>\n",
       "      <td>2.274838e-17</td>\n",
       "      <td>218.792667</td>\n",
       "      <td>9.908475</td>\n",
       "      <td>228.701142</td>\n",
       "    </tr>\n",
       "    <tr>\n",
       "      <th>99</th>\n",
       "      <td>99.0</td>\n",
       "      <td>1.0</td>\n",
       "      <td>4.214013e+95</td>\n",
       "      <td>2.000000e+02</td>\n",
       "      <td>8.428026e+97</td>\n",
       "      <td>9.099810e-19</td>\n",
       "      <td>220.183999</td>\n",
       "      <td>5.298317</td>\n",
       "      <td>225.482317</td>\n",
       "    </tr>\n",
       "    <tr>\n",
       "      <th>100</th>\n",
       "      <td>100.0</td>\n",
       "      <td>0.0</td>\n",
       "      <td>1.681391e+96</td>\n",
       "      <td>1.000000e+00</td>\n",
       "      <td>1.681391e+96</td>\n",
       "      <td>1.815412e-20</td>\n",
       "      <td>221.567790</td>\n",
       "      <td>0.000000</td>\n",
       "      <td>221.567790</td>\n",
       "    </tr>\n",
       "  </tbody>\n",
       "</table>\n",
       "<p>101 rows × 9 columns</p>\n",
       "</div>"
      ],
      "text/plain": [
       "       q_A    q_B       multi_A       multi_B    multi_total   probability  \\\n",
       "0      0.0  100.0  1.000000e+00  2.772168e+81   2.772168e+81  2.993133e-35   \n",
       "1      1.0   99.0  3.000000e+02  9.271464e+80   2.781439e+83  3.003143e-33   \n",
       "2      2.0   98.0  4.515000e+04  3.080117e+80   1.390673e+85  1.501521e-31   \n",
       "3      3.0   97.0  4.545100e+06  1.016335e+80   4.619344e+86  4.987544e-30   \n",
       "4      4.0   96.0  3.442913e+08  3.330557e+79   1.146682e+88  1.238082e-28   \n",
       "..     ...    ...           ...           ...            ...           ...   \n",
       "96    96.0    4.0  6.338115e+93  6.868505e+07  4.353337e+101  4.700335e-15   \n",
       "97    97.0    3.0  2.587519e+94  1.353400e+06  3.501948e+100  3.781083e-16   \n",
       "98    98.0    2.0  1.048209e+95  2.010000e+04   2.106901e+99  2.274838e-17   \n",
       "99    99.0    1.0  4.214013e+95  2.000000e+02   8.428026e+97  9.099810e-19   \n",
       "100  100.0    0.0  1.681391e+96  1.000000e+00   1.681391e+96  1.815412e-20   \n",
       "\n",
       "            S_a         S_b         S_t  \n",
       "0      0.000000  187.529022  187.529022  \n",
       "1      5.703782  186.433749  192.137531  \n",
       "2     10.717746  185.331775  196.049521  \n",
       "3     15.329560  184.223010  199.552571  \n",
       "4     19.656999  183.107362  202.764361  \n",
       "..          ...         ...         ...  \n",
       "96   215.986995   18.045042  234.032037  \n",
       "97   217.393698   14.118131  231.511829  \n",
       "98   218.792667    9.908475  228.701142  \n",
       "99   220.183999    5.298317  225.482317  \n",
       "100  221.567790    0.000000  221.567790  \n",
       "\n",
       "[101 rows x 9 columns]"
      ]
     },
     "execution_count": 22,
     "metadata": {},
     "output_type": "execute_result"
    }
   ],
   "source": [
    "table2"
   ]
  },
  {
   "cell_type": "code",
   "execution_count": 25,
   "id": "8f658caa-e3b7-415c-883e-79e75ef263f8",
   "metadata": {},
   "outputs": [
    {
     "data": {
      "application/vnd.jupyter.widget-view+json": {
       "model_id": "1e28cd723f5c4d058e8a43333a11f8e1",
       "version_major": 2,
       "version_minor": 0
      },
      "text/plain": [
       "Canvas(toolbar=Toolbar(toolitems=[('Home', 'Reset original view', 'home', 'home'), ('Back', 'Back to previous …"
      ]
     },
     "metadata": {},
     "output_type": "display_data"
    },
    {
     "data": {
      "text/plain": [
       "<matplotlib.legend.Legend at 0x7f607d8e4e10>"
      ]
     },
     "execution_count": 25,
     "metadata": {},
     "output_type": "execute_result"
    }
   ],
   "source": [
    "fig2 = plt.figure()\n",
    "ax2 = fig2.add_subplot()\n",
    "\n",
    "ax2.plot(table2['q_A'],table2['S_a'],label='S_a')\n",
    "ax2.plot(table2['q_A'],table2['S_b'],label='S_b')\n",
    "ax2.plot(table2['q_A'],table2['S_t'],label='S_t')\n",
    "\n",
    "ax2.set_xlabel('q_A')\n",
    "ax2.set_ylabel(r'Entropy (S/k$_b$)')\n",
    "\n",
    "ax2.legend()"
   ]
  },
  {
   "cell_type": "code",
   "execution_count": null,
   "id": "667715a5-6595-4cc4-8ec5-e3f0824fd96e",
   "metadata": {},
   "outputs": [],
   "source": []
  },
  {
   "cell_type": "code",
   "execution_count": null,
   "id": "4e7a8556-dfab-4aa2-b118-29a3463cd21b",
   "metadata": {},
   "outputs": [],
   "source": []
  }
 ],
 "metadata": {
  "kernelspec": {
   "display_name": "Python 3",
   "language": "python",
   "name": "python3"
  },
  "language_info": {
   "codemirror_mode": {
    "name": "ipython",
    "version": 3
   },
   "file_extension": ".py",
   "mimetype": "text/x-python",
   "name": "python",
   "nbconvert_exporter": "python",
   "pygments_lexer": "ipython3",
   "version": "3.6.13"
  }
 },
 "nbformat": 4,
 "nbformat_minor": 5
}
