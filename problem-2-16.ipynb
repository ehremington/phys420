{
 "cells": [
  {
   "cell_type": "markdown",
   "id": "0f696d30-ac6e-4bf6-b893-93866f3fc0b0",
   "metadata": {},
   "source": [
    "# Solving 2.16\n",
    "\n",
    "I am trying to solve problem 2.16, but running into trouble.\n",
    "\n",
    "I want to show that $$\\sum_{n=1}^{N} \\frac{N!}{n! (N-n)!} = 2^N-1?$$"
   ]
  },
  {
   "cell_type": "code",
   "execution_count": 2,
   "id": "54bc8996-7739-4f8e-830a-1c56cbbae073",
   "metadata": {},
   "outputs": [],
   "source": [
    "import scipy.special as sp\n",
    "\n",
    "def factorial(x):\n",
    "    return sp.factorial(x, exact=True)\n",
    "\n",
    "def factorialSum(N):\n",
    "    sigma = 0\n",
    "    for n in range(1,N+1):\n",
    "        sigma += 1/factorial(n)/factorial(N-n)\n",
    "        print(n, 1/factorial(n)/factorial(N-n), sigma)\n",
    "    return sigma*factorial(N)"
   ]
  },
  {
   "cell_type": "code",
   "execution_count": 5,
   "id": "43b75ec5-2c38-4547-b84e-90a999d8a29a",
   "metadata": {},
   "outputs": [
    {
     "name": "stdout",
     "output_type": "stream",
     "text": [
      "1 0.16666666666666666 0.16666666666666666\n",
      "2 0.25 0.41666666666666663\n",
      "3 0.16666666666666666 0.5833333333333333\n",
      "4 0.041666666666666664 0.6249999999999999\n"
     ]
    },
    {
     "data": {
      "text/plain": [
       "14.999999999999996"
      ]
     },
     "execution_count": 5,
     "metadata": {},
     "output_type": "execute_result"
    }
   ],
   "source": [
    "factorialSum(4)"
   ]
  },
  {
   "cell_type": "code",
   "execution_count": 6,
   "id": "f5ebe170-3443-4a06-8578-f674e4ae1000",
   "metadata": {},
   "outputs": [
    {
     "data": {
      "text/plain": [
       "16"
      ]
     },
     "execution_count": 6,
     "metadata": {},
     "output_type": "execute_result"
    }
   ],
   "source": [
    "2**4"
   ]
  },
  {
   "cell_type": "code",
   "execution_count": 7,
   "id": "dfc6f060-e0c1-492c-84e2-97fcf76f8ff4",
   "metadata": {},
   "outputs": [
    {
     "data": {
      "text/plain": [
       "6"
      ]
     },
     "execution_count": 7,
     "metadata": {},
     "output_type": "execute_result"
    }
   ],
   "source": [
    "factorial(3)"
   ]
  },
  {
   "cell_type": "code",
   "execution_count": null,
   "id": "2fc582b8-ea31-40c8-b564-780ad0b29db9",
   "metadata": {},
   "outputs": [],
   "source": []
  }
 ],
 "metadata": {
  "kernelspec": {
   "display_name": "Python 3",
   "language": "python",
   "name": "python3"
  },
  "language_info": {
   "codemirror_mode": {
    "name": "ipython",
    "version": 3
   },
   "file_extension": ".py",
   "mimetype": "text/x-python",
   "name": "python",
   "nbconvert_exporter": "python",
   "pygments_lexer": "ipython3",
   "version": "3.6.13"
  }
 },
 "nbformat": 4,
 "nbformat_minor": 5
}
