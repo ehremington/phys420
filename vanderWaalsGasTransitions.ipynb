{
 "cells": [
  {
   "cell_type": "code",
   "execution_count": 1,
   "metadata": {},
   "outputs": [],
   "source": [
    "%matplotlib widget"
   ]
  },
  {
   "cell_type": "code",
   "execution_count": 2,
   "metadata": {},
   "outputs": [],
   "source": [
    "import numpy as np\n",
    "import pandas as pd\n",
    "import matplotlib.pyplot as plt"
   ]
  },
  {
   "cell_type": "code",
   "execution_count": 3,
   "metadata": {},
   "outputs": [],
   "source": [
    "def p(v,t):\n",
    "    return 8*t/(3*v-1)-3/v**2"
   ]
  },
  {
   "cell_type": "code",
   "execution_count": 4,
   "metadata": {},
   "outputs": [
    {
     "data": {
      "application/vnd.jupyter.widget-view+json": {
       "model_id": "e0fa75ba1c7f44e9ad28db8f7ef7fc87",
       "version_major": 2,
       "version_minor": 0
      },
      "text/plain": [
       "Canvas(toolbar=Toolbar(toolitems=[('Home', 'Reset original view', 'home', 'home'), ('Back', 'Back to previous …"
      ]
     },
     "metadata": {},
     "output_type": "display_data"
    },
    {
     "data": {
      "text/plain": [
       "Text(0.5, 0, '$V/V_c$')"
      ]
     },
     "execution_count": 4,
     "metadata": {},
     "output_type": "execute_result"
    }
   ],
   "source": [
    "v = np.linspace(0.5, 4, 100)\n",
    "\n",
    "fig0 = plt.figure()\n",
    "ax0 = fig0.add_subplot(111)\n",
    "\n",
    "ax0.plot(v, p(v, 0.8), label=r'$0.8 T_c$')\n",
    "ax0.plot(v, p(v, 0.9), label=r'$0.9 T_c$')\n",
    "ax0.plot(v, p(v, 1.0), label=r'$1 T_c$')\n",
    "ax0.plot(v, p(v, 1.1), label=r'$1.1 T_c$')\n",
    "ax0.plot(v, p(v, 1.2), label=r'$1.2 T_c$')\n",
    "\n",
    "ax0.legend()\n",
    "\n",
    "ax0.set_ylabel(r'$P/P_c$')\n",
    "ax0.set_xlabel(r'$V/V_c$')"
   ]
  },
  {
   "cell_type": "code",
   "execution_count": 5,
   "metadata": {},
   "outputs": [],
   "source": [
    "df = pd.DataFrame({'v/vc':v,\n",
    "                   '0.8Tc p/pc': p(v,0.8),\n",
    "                   '0.9Tc p/pc': p(v,0.9),\n",
    "                   '1.0Tc p/pc': p(v,1.0),\n",
    "                   '1.1Tc p/pc': p(v,1.1),\n",
    "                   '1.2Tc p/pc': p(v,1.2),})"
   ]
  },
  {
   "cell_type": "code",
   "execution_count": 6,
   "metadata": {},
   "outputs": [
    {
     "data": {
      "application/vnd.jupyter.widget-view+json": {
       "model_id": "b6cfbbe767ac4c9b999401c28c6b4d98",
       "version_major": 2,
       "version_minor": 0
      },
      "text/plain": [
       "Canvas(toolbar=Toolbar(toolitems=[('Home', 'Reset original view', 'home', 'home'), ('Back', 'Back to previous …"
      ]
     },
     "metadata": {},
     "output_type": "display_data"
    },
    {
     "data": {
      "text/plain": [
       "<AxesSubplot:xlabel='v/vc'>"
      ]
     },
     "execution_count": 6,
     "metadata": {},
     "output_type": "execute_result"
    }
   ],
   "source": [
    "df.plot(x='v/vc', y='0.9Tc p/pc')"
   ]
  },
  {
   "cell_type": "code",
   "execution_count": 11,
   "metadata": {},
   "outputs": [
    {
     "data": {
      "text/html": [
       "<div>\n",
       "<style scoped>\n",
       "    .dataframe tbody tr th:only-of-type {\n",
       "        vertical-align: middle;\n",
       "    }\n",
       "\n",
       "    .dataframe tbody tr th {\n",
       "        vertical-align: top;\n",
       "    }\n",
       "\n",
       "    .dataframe thead th {\n",
       "        text-align: right;\n",
       "    }\n",
       "</style>\n",
       "<table border=\"1\" class=\"dataframe\">\n",
       "  <thead>\n",
       "    <tr style=\"text-align: right;\">\n",
       "      <th></th>\n",
       "      <th>v/vc</th>\n",
       "      <th>0.8Tc p/pc</th>\n",
       "      <th>0.9Tc p/pc</th>\n",
       "      <th>1.0Tc p/pc</th>\n",
       "      <th>1.1Tc p/pc</th>\n",
       "      <th>1.2Tc p/pc</th>\n",
       "      <th>0.9Tc G</th>\n",
       "    </tr>\n",
       "  </thead>\n",
       "  <tbody>\n",
       "    <tr>\n",
       "      <th>0</th>\n",
       "      <td>0.500000</td>\n",
       "      <td>0.800000</td>\n",
       "      <td>2.400000</td>\n",
       "      <td>4.000000</td>\n",
       "      <td>5.600000</td>\n",
       "      <td>7.200000</td>\n",
       "      <td>-2.076168</td>\n",
       "    </tr>\n",
       "    <tr>\n",
       "      <th>1</th>\n",
       "      <td>0.535354</td>\n",
       "      <td>0.092574</td>\n",
       "      <td>1.412574</td>\n",
       "      <td>2.732574</td>\n",
       "      <td>4.052574</td>\n",
       "      <td>5.372574</td>\n",
       "      <td>-2.267132</td>\n",
       "    </tr>\n",
       "    <tr>\n",
       "      <th>2</th>\n",
       "      <td>0.570707</td>\n",
       "      <td>-0.223511</td>\n",
       "      <td>0.899894</td>\n",
       "      <td>2.023298</td>\n",
       "      <td>3.146702</td>\n",
       "      <td>4.270106</td>\n",
       "      <td>-2.373092</td>\n",
       "    </tr>\n",
       "    <tr>\n",
       "      <th>3</th>\n",
       "      <td>0.606061</td>\n",
       "      <td>-0.345278</td>\n",
       "      <td>0.632500</td>\n",
       "      <td>1.610278</td>\n",
       "      <td>2.588056</td>\n",
       "      <td>3.565833</td>\n",
       "      <td>-2.431896</td>\n",
       "    </tr>\n",
       "    <tr>\n",
       "      <th>4</th>\n",
       "      <td>0.641414</td>\n",
       "      <td>-0.367368</td>\n",
       "      <td>0.498205</td>\n",
       "      <td>1.363779</td>\n",
       "      <td>2.229353</td>\n",
       "      <td>3.094927</td>\n",
       "      <td>-2.463201</td>\n",
       "    </tr>\n",
       "    <tr>\n",
       "      <th>...</th>\n",
       "      <td>...</td>\n",
       "      <td>...</td>\n",
       "      <td>...</td>\n",
       "      <td>...</td>\n",
       "      <td>...</td>\n",
       "      <td>...</td>\n",
       "      <td>...</td>\n",
       "    </tr>\n",
       "    <tr>\n",
       "      <th>95</th>\n",
       "      <td>3.858586</td>\n",
       "      <td>0.403662</td>\n",
       "      <td>0.479307</td>\n",
       "      <td>0.554952</td>\n",
       "      <td>0.630596</td>\n",
       "      <td>0.706241</td>\n",
       "      <td>-2.620723</td>\n",
       "    </tr>\n",
       "    <tr>\n",
       "      <th>96</th>\n",
       "      <td>3.893939</td>\n",
       "      <td>0.401296</td>\n",
       "      <td>0.476189</td>\n",
       "      <td>0.551083</td>\n",
       "      <td>0.625977</td>\n",
       "      <td>0.700870</td>\n",
       "      <td>-2.625254</td>\n",
       "    </tr>\n",
       "    <tr>\n",
       "      <th>97</th>\n",
       "      <td>3.929293</td>\n",
       "      <td>0.398950</td>\n",
       "      <td>0.473107</td>\n",
       "      <td>0.547264</td>\n",
       "      <td>0.621422</td>\n",
       "      <td>0.695579</td>\n",
       "      <td>-2.629776</td>\n",
       "    </tr>\n",
       "    <tr>\n",
       "      <th>98</th>\n",
       "      <td>3.964646</td>\n",
       "      <td>0.396624</td>\n",
       "      <td>0.470059</td>\n",
       "      <td>0.543494</td>\n",
       "      <td>0.616930</td>\n",
       "      <td>0.690365</td>\n",
       "      <td>-2.634287</td>\n",
       "    </tr>\n",
       "    <tr>\n",
       "      <th>99</th>\n",
       "      <td>4.000000</td>\n",
       "      <td>0.394318</td>\n",
       "      <td>0.467045</td>\n",
       "      <td>0.539773</td>\n",
       "      <td>0.612500</td>\n",
       "      <td>0.685227</td>\n",
       "      <td>-2.638788</td>\n",
       "    </tr>\n",
       "  </tbody>\n",
       "</table>\n",
       "<p>100 rows × 7 columns</p>\n",
       "</div>"
      ],
      "text/plain": [
       "        v/vc  0.8Tc p/pc  0.9Tc p/pc  1.0Tc p/pc  1.1Tc p/pc  1.2Tc p/pc  \\\n",
       "0   0.500000    0.800000    2.400000    4.000000    5.600000    7.200000   \n",
       "1   0.535354    0.092574    1.412574    2.732574    4.052574    5.372574   \n",
       "2   0.570707   -0.223511    0.899894    2.023298    3.146702    4.270106   \n",
       "3   0.606061   -0.345278    0.632500    1.610278    2.588056    3.565833   \n",
       "4   0.641414   -0.367368    0.498205    1.363779    2.229353    3.094927   \n",
       "..       ...         ...         ...         ...         ...         ...   \n",
       "95  3.858586    0.403662    0.479307    0.554952    0.630596    0.706241   \n",
       "96  3.893939    0.401296    0.476189    0.551083    0.625977    0.700870   \n",
       "97  3.929293    0.398950    0.473107    0.547264    0.621422    0.695579   \n",
       "98  3.964646    0.396624    0.470059    0.543494    0.616930    0.690365   \n",
       "99  4.000000    0.394318    0.467045    0.539773    0.612500    0.685227   \n",
       "\n",
       "     0.9Tc G  \n",
       "0  -2.076168  \n",
       "1  -2.267132  \n",
       "2  -2.373092  \n",
       "3  -2.431896  \n",
       "4  -2.463201  \n",
       "..       ...  \n",
       "95 -2.620723  \n",
       "96 -2.625254  \n",
       "97 -2.629776  \n",
       "98 -2.634287  \n",
       "99 -2.638788  \n",
       "\n",
       "[100 rows x 7 columns]"
      ]
     },
     "execution_count": 11,
     "metadata": {},
     "output_type": "execute_result"
    }
   ],
   "source": [
    "df"
   ]
  },
  {
   "cell_type": "code",
   "execution_count": 7,
   "metadata": {},
   "outputs": [],
   "source": [
    "df['0.9Tc G'] = -0.9*np.log(3*df['v/vc']-1)+0.9/(3*df['v/vc']-1)-9/(4*df['v/vc'])"
   ]
  },
  {
   "cell_type": "code",
   "execution_count": 8,
   "metadata": {},
   "outputs": [
    {
     "data": {
      "application/vnd.jupyter.widget-view+json": {
       "model_id": "0eead9215c2442758794a2222129a7ff",
       "version_major": 2,
       "version_minor": 0
      },
      "text/plain": [
       "Canvas(toolbar=Toolbar(toolitems=[('Home', 'Reset original view', 'home', 'home'), ('Back', 'Back to previous …"
      ]
     },
     "metadata": {},
     "output_type": "display_data"
    },
    {
     "data": {
      "text/plain": [
       "<AxesSubplot:xlabel='0.9Tc p/pc'>"
      ]
     },
     "execution_count": 8,
     "metadata": {},
     "output_type": "execute_result"
    }
   ],
   "source": [
    "df.plot(x='0.9Tc p/pc', y='0.9Tc G', xlim=(0.3, 0.9))"
   ]
  },
  {
   "cell_type": "code",
   "execution_count": null,
   "metadata": {},
   "outputs": [],
   "source": []
  }
 ],
 "metadata": {
  "kernelspec": {
   "display_name": "Python 3",
   "language": "python",
   "name": "python3"
  },
  "language_info": {
   "codemirror_mode": {
    "name": "ipython",
    "version": 3
   },
   "file_extension": ".py",
   "mimetype": "text/x-python",
   "name": "python",
   "nbconvert_exporter": "python",
   "pygments_lexer": "ipython3",
   "version": "3.7.9"
  }
 },
 "nbformat": 4,
 "nbformat_minor": 4
}
